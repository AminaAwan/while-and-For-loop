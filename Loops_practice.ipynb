{
 "cells": [
  {
   "cell_type": "markdown",
   "id": "414b3367-b460-4f67-be9e-4932c82de3ba",
   "metadata": {},
   "source": [
    "# For Loop Practice Questions\n",
    "Print first 10 even numbers"
   ]
  },
  {
   "cell_type": "code",
   "execution_count": 1,
   "id": "3a4f428d-4066-492a-ba83-36cd55d03560",
   "metadata": {},
   "outputs": [
    {
     "name": "stdout",
     "output_type": "stream",
     "text": [
      "2\n",
      "4\n",
      "6\n",
      "8\n",
      "10\n",
      "12\n",
      "14\n",
      "16\n",
      "18\n",
      "20\n"
     ]
    }
   ],
   "source": [
    "for i in range(2,21):\n",
    "    if i%2==0:\n",
    "        print(i)\n",
    "    i=i+1"
   ]
  },
  {
   "cell_type": "code",
   "execution_count": 2,
   "id": "157ce159-6ac8-40e0-8182-24f458d0568b",
   "metadata": {},
   "outputs": [
    {
     "name": "stdout",
     "output_type": "stream",
     "text": [
      "1\n",
      "3\n",
      "5\n",
      "7\n",
      "9\n",
      "11\n",
      "13\n",
      "15\n",
      "17\n",
      "19\n"
     ]
    }
   ],
   "source": [
    "#first 10 odd numbers\n",
    "for i in range(1,20):\n",
    "    if i%2!=0:\n",
    "        print(i)\n",
    "    i=i+1"
   ]
  },
  {
   "cell_type": "code",
   "execution_count": 10,
   "id": "feb2674a-752e-4b91-b831-81eac6c3dc1f",
   "metadata": {},
   "outputs": [
    {
     "name": "stdout",
     "output_type": "stream",
     "text": [
      "20\n",
      "18\n",
      "16\n",
      "14\n",
      "12\n",
      "10\n",
      "8\n",
      "6\n",
      "4\n",
      "2\n"
     ]
    }
   ],
   "source": [
    "#first 10 even numbers in reverse order\n",
    "for i in range(20,1,-1): #decrement by 1\n",
    "    if i%2==0:\n",
    "        print(i)\n",
    "   "
   ]
  },
  {
   "cell_type": "code",
   "execution_count": 15,
   "id": "115364ba-2233-4c9c-87ea-1f95f8c39654",
   "metadata": {},
   "outputs": [
    {
     "name": "stdin",
     "output_type": "stream",
     "text": [
      "Enter number of table multiplication:  6\n"
     ]
    },
    {
     "name": "stdout",
     "output_type": "stream",
     "text": [
      "The number is:  6\n",
      "6 * 1 = 6 \n",
      "6 * 2 = 12 \n",
      "6 * 3 = 18 \n",
      "6 * 4 = 24 \n",
      "6 * 5 = 30 \n",
      "6 * 6 = 36 \n",
      "6 * 7 = 42 \n",
      "6 * 8 = 48 \n",
      "6 * 9 = 54 \n",
      "6 * 10 = 60 \n"
     ]
    }
   ],
   "source": [
    "#Print table of a number accepted from user\n",
    "num = int(input(\"Enter number of table multiplication: \"))\n",
    "print(\"The number is: \", num)\n",
    "for i in range(1,11):\n",
    "    print(f\"{num} * {i} = {num * i} \")"
   ]
  },
  {
   "cell_type": "code",
   "execution_count": 17,
   "id": "c3811295-df1f-4012-90fe-b49fd2e85873",
   "metadata": {},
   "outputs": [
    {
     "name": "stdin",
     "output_type": "stream",
     "text": [
      "Enter a number:  5\n"
     ]
    },
    {
     "name": "stdout",
     "output_type": "stream",
     "text": [
      "The factorial of a number is:  120\n"
     ]
    }
   ],
   "source": [
    "#Factorial of a number\n",
    "num =int(input(\"Enter a number: \"))\n",
    "fact =1\n",
    "for i in range(1, num+1):\n",
    "    fact=fact * i\n",
    "print(\"The factorial of a number is: \",fact)"
   ]
  },
  {
   "cell_type": "markdown",
   "id": "d5cf8746-9c18-41ec-8f36-2480b68ebe83",
   "metadata": {},
   "source": [
    "# Today's Question"
   ]
  },
  {
   "cell_type": "code",
   "execution_count": 18,
   "id": "48f15ada-215f-4dbe-ac40-d6e42e2d7882",
   "metadata": {},
   "outputs": [
    {
     "name": "stdout",
     "output_type": "stream",
     "text": [
      "1\n",
      "2\n",
      "3\n",
      "4\n",
      "5\n",
      "6\n",
      "7\n",
      "8\n",
      "9\n",
      "10\n"
     ]
    }
   ],
   "source": [
    "#print numbers from 1 to 10\n",
    "for i in range(1,11):\n",
    "    print(i)"
   ]
  },
  {
   "cell_type": "code",
   "execution_count": 19,
   "id": "20b85e6d-2633-45c9-b246-ffcf484bebef",
   "metadata": {},
   "outputs": [
    {
     "name": "stdout",
     "output_type": "stream",
     "text": [
      "1\n",
      "4\n",
      "9\n",
      "16\n",
      "25\n"
     ]
    }
   ],
   "source": [
    "#print the square of numbers from 1 to 5\n",
    "for i in range(1,6):\n",
    "    print(i**2)"
   ]
  },
  {
   "cell_type": "code",
   "execution_count": 20,
   "id": "840d2a3b-2b64-4539-98b2-059b34280c1e",
   "metadata": {},
   "outputs": [
    {
     "name": "stdin",
     "output_type": "stream",
     "text": [
      "Please enter a word. Hello\n"
     ]
    },
    {
     "name": "stdout",
     "output_type": "stream",
     "text": [
      "H\n",
      "e\n",
      "l\n",
      "l\n",
      "o\n"
     ]
    }
   ],
   "source": [
    "#take word from user and print each letter on a new line\n",
    "word=input(\"Please enter a word.\")\n",
    "for i in word:\n",
    "    print(i)"
   ]
  },
  {
   "cell_type": "code",
   "execution_count": 21,
   "id": "3618f932-f069-414b-ae85-9b3df20e9817",
   "metadata": {},
   "outputs": [
    {
     "name": "stdout",
     "output_type": "stream",
     "text": [
      "2\n",
      "4\n",
      "6\n",
      "8\n",
      "10\n",
      "12\n",
      "14\n",
      "16\n",
      "18\n",
      "20\n"
     ]
    }
   ],
   "source": [
    "#print number from 2 to 20\n",
    "for i in range(2,21,2):  #Increment by 2, 3rd value is representing jumps/steps\n",
    "    print(i)"
   ]
  },
  {
   "cell_type": "code",
   "execution_count": 22,
   "id": "1b2dc1ae-37d2-4e86-928e-cf348b17e5e9",
   "metadata": {},
   "outputs": [
    {
     "name": "stdout",
     "output_type": "stream",
     "text": [
      "2\n",
      "4\n",
      "6\n",
      "8\n",
      "10\n",
      "12\n",
      "14\n",
      "16\n",
      "18\n",
      "20\n"
     ]
    }
   ],
   "source": [
    "#print number from 2 to 20\n",
    "for i in range(2,21):\n",
    "    if i%2==0:\n",
    "        print(i)"
   ]
  },
  {
   "cell_type": "code",
   "execution_count": 23,
   "id": "f4948b8b-c815-43e5-8bf1-94d8c85cd99f",
   "metadata": {},
   "outputs": [
    {
     "name": "stdout",
     "output_type": "stream",
     "text": [
      "2500\n"
     ]
    }
   ],
   "source": [
    "#Sum of all odd numbers from 1 to 100\n",
    "num=1\n",
    "sum=0\n",
    "while num<=100:\n",
    "  if num%2!=0:\n",
    "    sum=sum+num\n",
    "  num=num+1\n",
    "print(sum)"
   ]
  },
  {
   "cell_type": "code",
   "execution_count": null,
   "id": "abd10f5d-1e09-4e60-8027-5b854121a15a",
   "metadata": {},
   "outputs": [],
   "source": [
    "correct_num=7\n",
    "guess_num=None\n",
    "while guess_num!=correct_num:\n",
    "    guess_num=int(input(\"Enter a guess numebr \"))\n",
    "    if guess_num==correct_num:\n",
    "        print(\"You guessed right.\")\n",
    "        break\n",
    "    else:\n",
    "        print(\"You guessed wrong.\")"
   ]
  },
  {
   "cell_type": "code",
   "execution_count": null,
   "id": "5ed68a9a-5c19-4d48-9069-592bbf3afdbe",
   "metadata": {},
   "outputs": [],
   "source": [
    "correct_pass = \"python123\"\n",
    "guess_pass = None\n",
    "\n",
    "while guess_pass != correct_pass:\n",
    "    guess_pass = int(input(\"Enter your password. \"))\n",
    "    if guess_pass == correct_pass:\n",
    "        print(\"Your password is matched.\")\n",
    "        break\n",
    "    else:\n",
    "        print(\"Wrong password. Try again.\")"
   ]
  },
  {
   "cell_type": "code",
   "execution_count": null,
   "id": "dff47db0-8000-4e0a-ae8f-72b2c3315394",
   "metadata": {},
   "outputs": [],
   "source": []
  }
 ],
 "metadata": {
  "kernelspec": {
   "display_name": "Python [conda env:base] *",
   "language": "python",
   "name": "conda-base-py"
  },
  "language_info": {
   "codemirror_mode": {
    "name": "ipython",
    "version": 3
   },
   "file_extension": ".py",
   "mimetype": "text/x-python",
   "name": "python",
   "nbconvert_exporter": "python",
   "pygments_lexer": "ipython3",
   "version": "3.12.7"
  }
 },
 "nbformat": 4,
 "nbformat_minor": 5
}
